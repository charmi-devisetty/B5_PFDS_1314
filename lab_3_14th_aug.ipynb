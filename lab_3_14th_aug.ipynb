{
  "nbformat": 4,
  "nbformat_minor": 0,
  "metadata": {
    "colab": {
      "provenance": [],
      "authorship_tag": "ABX9TyMrWIHQdwkrk9BMwLoyQnb/",
      "include_colab_link": true
    },
    "kernelspec": {
      "name": "python3",
      "display_name": "Python 3"
    },
    "language_info": {
      "name": "python"
    }
  },
  "cells": [
    {
      "cell_type": "markdown",
      "metadata": {
        "id": "view-in-github",
        "colab_type": "text"
      },
      "source": [
        "<a href=\"https://colab.research.google.com/github/charmi-devisetty/B5_PFDS_1314/blob/main/lab_3_14th_aug.ipynb\" target=\"_parent\"><img src=\"https://colab.research.google.com/assets/colab-badge.svg\" alt=\"Open In Colab\"/></a>"
      ]
    },
    {
      "cell_type": "markdown",
      "source": [
        "**QUESTION 1**"
      ],
      "metadata": {
        "id": "xLoanMZ93A7N"
      }
    },
    {
      "cell_type": "code",
      "execution_count": 29,
      "metadata": {
        "id": "njlwFi7p0adx"
      },
      "outputs": [],
      "source": [
        "import numpy as np"
      ]
    },
    {
      "cell_type": "code",
      "source": [
        "A=np.array([[1,2],[3,4],[4,5]])\n",
        "B=np.array([[5,6],[7,8],[10,12]])"
      ],
      "metadata": {
        "id": "4eDOKFB21I0D"
      },
      "execution_count": 30,
      "outputs": []
    },
    {
      "cell_type": "code",
      "source": [
        "print(\"Matrix A:\\n\", A)\n",
        "print(\"Matrix B:\\n\", B)"
      ],
      "metadata": {
        "colab": {
          "base_uri": "https://localhost:8080/"
        },
        "id": "wWwnXs8L1ahA",
        "outputId": "32fb5c88-8107-4152-e88d-4e96566aec69"
      },
      "execution_count": 31,
      "outputs": [
        {
          "output_type": "stream",
          "name": "stdout",
          "text": [
            "Matrix A:\n",
            " [[1 2]\n",
            " [3 4]\n",
            " [4 5]]\n",
            "Matrix B:\n",
            " [[ 5  6]\n",
            " [ 7  8]\n",
            " [10 12]]\n"
          ]
        }
      ]
    },
    {
      "cell_type": "code",
      "source": [
        "addition=np.add(A,B)\n",
        "sub=np.subtract(A,B)\n",
        "\n"
      ],
      "metadata": {
        "id": "zkguCx5l101X"
      },
      "execution_count": 32,
      "outputs": []
    },
    {
      "cell_type": "code",
      "source": [
        "print(\"\\nAddition (A + B):\\n\", addition)\n",
        "print(\"Subtraction (A - B):\\n\", sub)"
      ],
      "metadata": {
        "colab": {
          "base_uri": "https://localhost:8080/"
        },
        "id": "qSxqUGBe216x",
        "outputId": "737ad5f9-495e-4610-fabb-64940d755b46"
      },
      "execution_count": 33,
      "outputs": [
        {
          "output_type": "stream",
          "name": "stdout",
          "text": [
            "\n",
            "Addition (A + B):\n",
            " [[ 6  8]\n",
            " [10 12]\n",
            " [14 17]]\n",
            "Subtraction (A - B):\n",
            " [[-4 -4]\n",
            " [-4 -4]\n",
            " [-6 -7]]\n"
          ]
        }
      ]
    },
    {
      "cell_type": "code",
      "source": [
        "print(f\"{A[0,0]}+{B[0,0]}={A[0,0]+B[0,0]}\")\n",
        "print(f\"{A[0,0]}-{B[0,0]}={A[0,0]-B[0,0]}\")"
      ],
      "metadata": {
        "colab": {
          "base_uri": "https://localhost:8080/"
        },
        "id": "zgMB1S8O2-TT",
        "outputId": "e9418a27-0a93-431b-ec17-066d8f31b8c9"
      },
      "execution_count": 34,
      "outputs": [
        {
          "output_type": "stream",
          "name": "stdout",
          "text": [
            "1+5=6\n",
            "1-5=-4\n"
          ]
        }
      ]
    },
    {
      "cell_type": "markdown",
      "source": [
        "**QUESTION 2**"
      ],
      "metadata": {
        "id": "Rw-f2-ae3ql7"
      }
    },
    {
      "cell_type": "code",
      "source": [
        "A=np.array([[5,7],[2,9],[4,5]])\n",
        "B=np.array([[3,4],[8,7]])"
      ],
      "metadata": {
        "id": "hVw1O8533tNs"
      },
      "execution_count": 35,
      "outputs": []
    },
    {
      "cell_type": "code",
      "source": [
        "print(\"Matrix A:\\n\", A)\n",
        "print(\"Matrix B:\\n\", B)"
      ],
      "metadata": {
        "colab": {
          "base_uri": "https://localhost:8080/"
        },
        "id": "fsejUiAl33-y",
        "outputId": "92e4c633-cf92-41bd-a1df-2e73764f93e0"
      },
      "execution_count": 36,
      "outputs": [
        {
          "output_type": "stream",
          "name": "stdout",
          "text": [
            "Matrix A:\n",
            " [[5 7]\n",
            " [2 9]\n",
            " [4 5]]\n",
            "Matrix B:\n",
            " [[3 4]\n",
            " [8 7]]\n"
          ]
        }
      ]
    },
    {
      "cell_type": "code",
      "source": [
        "mul=np.dot(A,B)"
      ],
      "metadata": {
        "id": "jCSCQLEz4DDt"
      },
      "execution_count": 37,
      "outputs": []
    },
    {
      "cell_type": "code",
      "source": [
        "print(\"\\nMultiplication (A * B):\\n\", mul)"
      ],
      "metadata": {
        "colab": {
          "base_uri": "https://localhost:8080/"
        },
        "id": "dN1MhBRk4OB2",
        "outputId": "a3a06b92-f992-4018-935d-20b60b9348e8"
      },
      "execution_count": 38,
      "outputs": [
        {
          "output_type": "stream",
          "name": "stdout",
          "text": [
            "\n",
            "Multiplication (A * B):\n",
            " [[71 69]\n",
            " [78 71]\n",
            " [52 51]]\n"
          ]
        }
      ]
    },
    {
      "cell_type": "code",
      "source": [
        "import matplotlib.pyplot as plt\n",
        "\n",
        "plt.figure(figsize=(6, 5))\n",
        "plt.imshow(mul, cmap='viridis', interpolation='nearest')\n",
        "plt.colorbar(label='Value')\n",
        "plt.title('Heatmap of Dot Product (3x2 · 2x2)')\n",
        "plt.xlabel('Columns')\n",
        "plt.ylabel('Rows')\n",
        "for i in range(mul.shape[0]):\n",
        "    for j in range(mul.shape[1]):\n",
        "        plt.text(j, i, str(mul[i, j]), ha='center', va='center', color='white')\n",
        "\n",
        "plt.tight_layout()\n",
        "plt.show()"
      ],
      "metadata": {
        "colab": {
          "base_uri": "https://localhost:8080/",
          "height": 507
        },
        "id": "84CWVKPG9jer",
        "outputId": "ea8c3727-a86d-41d6-9cff-6b3918d917d6"
      },
      "execution_count": 42,
      "outputs": [
        {
          "output_type": "display_data",
          "data": {
            "text/plain": [
              "<Figure size 600x500 with 2 Axes>"
            ],
            "image/png": "[encoded data removed]"
          },
          "metadata": {}
        }
      ]
    }
  ]
}